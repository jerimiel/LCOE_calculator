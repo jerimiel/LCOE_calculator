{
 "cells": [
  {
   "cell_type": "code",
   "execution_count": 31,
   "id": "8f659fa0-1790-4844-805a-a4278f8dd715",
   "metadata": {},
   "outputs": [],
   "source": [
    "import requests"
   ]
  },
  {
   "cell_type": "code",
   "execution_count": 254,
   "id": "76316cd4-c90e-46b1-b056-171121607735",
   "metadata": {},
   "outputs": [],
   "source": [
    "#get longitude and latitude values using api \n",
    "def get_lon_lat(place):\n",
    "    location = place\n",
    "    url = f\"https://geocode.maps.co/search?q={location}&api_key=68225435e819d899498587sexcf4f84\"\n",
    "    response = requests.get(url)\n",
    "    if response.status_code == 200:\n",
    "        data = response.json()\n",
    "        return data\n",
    "    else:\n",
    "        print(f\"Error: {response.status_code}\")\n",
    "\n",
    "# extract lat and lon values\n",
    "def make_choice(data):\n",
    "    choice = {\"lat\":\"\", \"lon\":\"\"}\n",
    "    if len(data) != 0:\n",
    "        choice[\"lat\"]+=data[0][\"lat\"]\n",
    "        choice[\"lon\"]+=data[0][\"lon\"]\n",
    "    return choice\n",
    "\n",
    "#get solar irrdnce fro api for\n",
    "def get_solar_irrd(choice,start_year = 2024, end_year = start_year):\n",
    "    # Define the API endpoint\n",
    "    solar_url = f\"https://power.larc.nasa.gov/api/temporal/daily/point?start={start_year}&end={end_year}&latitude={choice[\"lat\"]}&longitude={choice[\"lon\"]}&community=sb&parameters=ALLSKY_SFC_SW_DWN&format=json&user=victor&header=true&time-standard=utc\"\n",
    "    \n",
    "    # Make the GET request\n",
    "    response = requests.get(solar_url)\n",
    "    \n",
    "    # Check the status code\n",
    "    if response.status_code == 200:\n",
    "        # Parse the JSON response\n",
    "        data = response.json()\n",
    "        return data\n",
    "    else:\n",
    "        print(f\"Error: {response.status_code}\")\n",
    "\n",
    "\n",
    "#Annual energy output calculator\n",
    "def annual_energy_output():\n",
    "    av_days = 0\n",
    "    panel_area = 100 #m2\n",
    "    irr = 0 #in Wh\n",
    "    days = list(irr_vals.keys())[:-1]\n",
    "    for d in days:\n",
    "        if irr_vals[d] > 0:\n",
    "            irr += (irr_vals[d] * 10 * panel_area) #12 for 12 hours of sunlight\n",
    "            av_days+=1\n",
    "    irr = irr + (irr/av_days) * (365 - av_days)\n",
    "    irr /= 1000\n",
    "    return irr\n",
    "\n",
    "#Lcoe calculator\n",
    "def calculate_lcoe(capital_cost, annual_om_cost, annual_energy_output, discount_rate, lifetime):\n",
    "    '''\n",
    "    capital_cost in curr/KW\n",
    "    annual_om_cost (annual operation and maintenance cost) in curr/KW\n",
    "    annual_energy_output in KWhr\n",
    "    lifetime in yrs\n",
    "    '''\n",
    "    total_cost = capital_cost\n",
    "    for year in range(1, lifetime + 1):\n",
    "        total_cost += annual_om_cost / ((1 + discount_rate) ** year)\n",
    "    total_energy = annual_energy_output * lifetime\n",
    "    lcoe = total_cost / total_energy\n",
    "    return lcoe"
   ]
  },
  {
   "cell_type": "code",
   "execution_count": 258,
   "id": "a3b8b55b-8b22-47c2-b6f1-27aef809e477",
   "metadata": {},
   "outputs": [],
   "source": [
    "data = get_lon_lat(\"America, Texas\")"
   ]
  },
  {
   "cell_type": "code",
   "execution_count": 259,
   "id": "e4244c56-9b66-4d25-aa46-259381bb1f56",
   "metadata": {},
   "outputs": [],
   "source": [
    "start_year = 2024\n",
    "end_year = 2024"
   ]
  },
  {
   "cell_type": "code",
   "execution_count": 260,
   "id": "e30b5cd0-d728-499e-a039-063fcf186111",
   "metadata": {},
   "outputs": [
    {
     "data": {
      "text/plain": [
       "{'lat': '31.2638905', 'lon': '-98.5456116'}"
      ]
     },
     "execution_count": 260,
     "metadata": {},
     "output_type": "execute_result"
    }
   ],
   "source": [
    "choice = make_choice(data)\n",
    "choice"
   ]
  },
  {
   "cell_type": "code",
   "execution_count": 244,
   "id": "ed5aa401-8c08-4b1b-913d-244930397bf5",
   "metadata": {},
   "outputs": [],
   "source": [
    "data = get_solar_irrd(choice, start_year, end_year)\n",
    "irr_vals = data[\"properties\"][\"parameter\"][\"ALLSKY_SFC_SW_DWN\"]"
   ]
  },
  {
   "cell_type": "code",
   "execution_count": 245,
   "id": "57b677e4-3d8a-4425-9dc0-cee375e1e444",
   "metadata": {},
   "outputs": [],
   "source": [
    "ann = annual_energy_output()"
   ]
  },
  {
   "cell_type": "code",
   "execution_count": 246,
   "id": "ba76e98d-7a80-4b0e-a488-d6e6960ed560",
   "metadata": {},
   "outputs": [
    {
     "data": {
      "text/plain": [
       "81229.361971831"
      ]
     },
     "execution_count": 246,
     "metadata": {},
     "output_type": "execute_result"
    }
   ],
   "source": [
    "ann"
   ]
  },
  {
   "cell_type": "code",
   "execution_count": 252,
   "id": "d87e071e-7ea9-458d-a041-c5821158b17a",
   "metadata": {},
   "outputs": [],
   "source": [
    "LCOE = calculate_lcoe(30000, 20, ann, 0.08, 25)"
   ]
  },
  {
   "cell_type": "code",
   "execution_count": 253,
   "id": "f5bc84ce-cf9d-4acf-8ca0-5b3f19a08d4c",
   "metadata": {},
   "outputs": [
    {
     "name": "stdout",
     "output_type": "stream",
     "text": [
      "0.0149$ per KWhr\n"
     ]
    }
   ],
   "source": [
    "print(f\"{LCOE:.4f}$ per KWhr\")"
   ]
  },
  {
   "cell_type": "code",
   "execution_count": null,
   "id": "3d0bafcf-c886-4ea2-a16d-03dcdb2c5269",
   "metadata": {},
   "outputs": [],
   "source": []
  }
 ],
 "metadata": {
  "kernelspec": {
   "display_name": "Python 3 (ipykernel)",
   "language": "python",
   "name": "python3"
  },
  "language_info": {
   "codemirror_mode": {
    "name": "ipython",
    "version": 3
   },
   "file_extension": ".py",
   "mimetype": "text/x-python",
   "name": "python",
   "nbconvert_exporter": "python",
   "pygments_lexer": "ipython3",
   "version": "3.12.4"
  }
 },
 "nbformat": 4,
 "nbformat_minor": 5
}
